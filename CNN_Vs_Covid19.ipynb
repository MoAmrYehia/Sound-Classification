{
 "cells": [
  {
   "cell_type": "code",
   "execution_count": 1,
   "metadata": {},
   "outputs": [
    {
     "name": "stderr",
     "output_type": "stream",
     "text": [
      "Using TensorFlow backend.\n"
     ]
    }
   ],
   "source": [
    "import os\n",
    "from scipy.io import wavfile\n",
    "import pandas as pd\n",
    "import matplotlib.pyplot as plt\n",
    "import numpy as np\n",
    "from keras.layers import Conv2D, MaxPool2D, Flatten, LSTM\n",
    "from keras.layers import Dropout, Dense, TimeDistributed\n",
    "from keras.models import Sequential\n",
    "from keras.utils import to_categorical\n",
    "from sklearn.utils.class_weight import compute_class_weight\n",
    "from tqdm import tqdm\n",
    "from python_speech_features import mfcc\n",
    "import pickle\n",
    "from keras.callbackes import ModelCheckpoint\n",
    "from cfg import Config"
   ]
  },
  {
   "cell_type": "code",
   "execution_count": 2,
   "metadata": {},
   "outputs": [],
   "source": [
    "def build_rand_feat():\n",
    "    x = []\n",
    "    y = []\n",
    "    _min, _max = float('inf'), -float('inf')\n",
    "    \n",
    "    for _ in tqdm(range(n_samples)):\n",
    "        rand_class = np.random.choice(class_dist.index, p = prob_dist)\n",
    "        file = np.random.choice(df[df.label == rand_class].index)\n",
    "        rate, wav = wavfile.read('clean/'+file)\n",
    "        label = df.at[file, 'label']\n",
    "        rand_index = np.random.randint(0, wav.shape[0]-config.step )\n",
    "        sample = wav[rand_index:rand_index+config.step]\n",
    "        X_sample = mfcc(sample, rate,\n",
    "                       numcep =config.nfeat, nfilt = config.nfilt, nfft= config.nfft)\n",
    "        _min = min(np.amin(X_sample),_min)\n",
    "        _max = max(np.amax(X_sample),_max)\n",
    "        x.append(X_sample)\n",
    "        y.append(classes.index(label))\n",
    "    config.min = _min \n",
    "    config.max = _max\n",
    "    x, y = np.array(x), np.array(y)\n",
    "    x = (x - _min)/(_max - _min)\n",
    "    \n",
    "    if config.mode =='conv':\n",
    "        x = x.reshape(x.shape[0], x.shape[1], x.shape[2], 1)\n",
    "    elif config.mode =='time':\n",
    "        x = x.reshape(x.shape[0], x.shape[1], x.shape[2])\n",
    "    y = to_categorical(y, num_classes =10)\n",
    "    return x,y"
   ]
  },
  {
   "cell_type": "code",
   "execution_count": 8,
   "metadata": {},
   "outputs": [],
   "source": [
    "def get_conv_model():\n",
    "    model = Sequential()\n",
    "    model.add(Conv2D(16, (3,3), activation = 'relu', strides = (1,1),\n",
    "                    padding = 'same', input_shape = input_shape))\n",
    "    model.add(Conv2D(32, (3,3), activation = 'relu', strides = (1,1),\n",
    "                    padding = 'same', input_shape = input_shape))\n",
    "    model.add(Conv2D(64, (3,3), activation = 'relu', strides = (1,1),\n",
    "                    padding = 'same', input_shape = input_shape))\n",
    "    model.add(Conv2D(128, (3,3), activation = 'relu', strides = (1,1),\n",
    "                    padding = 'same', input_shape = input_shape))\n",
    "    model.add(MaxPool2D((2,2)))\n",
    "    model.add(Dropout(0.5))\n",
    "    model.add(Flatten())\n",
    "    model.add(Dense(128, activation = 'relu'))\n",
    "    model.add(Dense(64, activation = 'relu'))\n",
    "    model.add(Dense(10, activation = 'softmax'))\n",
    "    model.summary()\n",
    "    model.compile(loss='categorical_crossentropy',\n",
    "                 optimizer = 'adam',\n",
    "                 metrics =['acc'])\n",
    "    return model"
   ]
  },
  {
   "cell_type": "code",
   "execution_count": 4,
   "metadata": {},
   "outputs": [],
   "source": []
  },
  {
   "cell_type": "code",
   "execution_count": 5,
   "metadata": {},
   "outputs": [
    {
     "data": {
      "image/png": "[encoded data removed]",
      "text/plain": [
       "<Figure size 432x288 with 1 Axes>"
      ]
     },
     "metadata": {},
     "output_type": "display_data"
    }
   ],
   "source": [
    "df = pd.read_csv('instruments.csv')\n",
    "df.set_index('fname', inplace=True)\n",
    "\n",
    "for f in df.index:\n",
    "    rate, signal = wavfile.read('clean/'+f)\n",
    "    df.at[f, 'length'] = signal.shape[0]/rate\n",
    "\n",
    "classes = list(np.unique(df.label))\n",
    "class_dist = df.groupby(['label'])['length'].mean()\n",
    "\n",
    "n_samples = 2* int(df['length'].sum()/0.1)\n",
    "prob_dist = class_dist/class_dist.sum()\n",
    "choices = np.random.choice(class_dist.index, p = prob_dist)\n",
    "\n",
    "fig, ax = plt.subplots()\n",
    "ax.set_title('Class Distribution', y=1.08)\n",
    "ax.pie(class_dist, labels=class_dist.index, autopct='%1.1f%%',\n",
    "       shadow=False, startangle=90)\n",
    "ax.axis('equal')\n",
    "plt.show()"
   ]
  },
  {
   "cell_type": "code",
   "execution_count": 9,
   "metadata": {},
   "outputs": [
    {
     "name": "stderr",
     "output_type": "stream",
     "text": [
      "100%|██████████| 26410/26410 [01:04<00:00, 409.47it/s]\n"
     ]
    },
    {
     "name": "stdout",
     "output_type": "stream",
     "text": [
      "Model: \"sequential_2\"\n",
      "_________________________________________________________________\n",
      "Layer (type)                 Output Shape              Param #   \n",
      "=================================================================\n",
      "conv2d_5 (Conv2D)            (None, 13, 9, 16)         160       \n",
      "_________________________________________________________________\n",
      "conv2d_6 (Conv2D)            (None, 13, 9, 32)         4640      \n",
      "_________________________________________________________________\n",
      "conv2d_7 (Conv2D)            (None, 13, 9, 64)         18496     \n",
      "_________________________________________________________________\n",
      "conv2d_8 (Conv2D)            (None, 13, 9, 128)        73856     \n",
      "_________________________________________________________________\n",
      "max_pooling2d_2 (MaxPooling2 (None, 6, 4, 128)         0         \n",
      "_________________________________________________________________\n",
      "dropout_2 (Dropout)          (None, 6, 4, 128)         0         \n",
      "_________________________________________________________________\n",
      "flatten_2 (Flatten)          (None, 3072)              0         \n",
      "_________________________________________________________________\n",
      "dense_1 (Dense)              (None, 128)               393344    \n",
      "_________________________________________________________________\n",
      "dense_2 (Dense)              (None, 64)                8256      \n",
      "_________________________________________________________________\n",
      "dense_3 (Dense)              (None, 10)                650       \n",
      "=================================================================\n",
      "Total params: 499,402\n",
      "Trainable params: 499,402\n",
      "Non-trainable params: 0\n",
      "_________________________________________________________________\n",
      "WARNING:tensorflow:From /home/mohamed/anaconda3/envs/tensorflow/lib/python3.5/site-packages/keras/backend/tensorflow_backend.py:422: The name tf.global_variables is deprecated. Please use tf.compat.v1.global_variables instead.\n",
      "\n",
      "Epoch 1/10\n",
      "26410/26410 [==============================] - 37s 1ms/step - loss: 1.0085 - acc: 0.6369\n",
      "Epoch 2/10\n",
      "26410/26410 [==============================] - 35s 1ms/step - loss: 0.4759 - acc: 0.8348\n",
      "Epoch 3/10\n",
      "26410/26410 [==============================] - 37s 1ms/step - loss: 0.3462 - acc: 0.8794\n",
      "Epoch 4/10\n",
      "26410/26410 [==============================] - 38s 1ms/step - loss: 0.2688 - acc: 0.9089\n",
      "Epoch 5/10\n",
      "26410/26410 [==============================] - 38s 1ms/step - loss: 0.2212 - acc: 0.9240\n",
      "Epoch 6/10\n",
      "26410/26410 [==============================] - 38s 1ms/step - loss: 0.2026 - acc: 0.9292\n",
      "Epoch 7/10\n",
      "26410/26410 [==============================] - 40s 2ms/step - loss: 0.1707 - acc: 0.9397\n",
      "Epoch 8/10\n",
      "26410/26410 [==============================] - 39s 1ms/step - loss: 0.1532 - acc: 0.9470\n",
      "Epoch 9/10\n",
      "26410/26410 [==============================] - 45s 2ms/step - loss: 0.1437 - acc: 0.9496\n",
      "Epoch 10/10\n",
      "26410/26410 [==============================] - 36s 1ms/step - loss: 0.1278 - acc: 0.9545\n"
     ]
    },
    {
     "data": {
      "text/plain": [
       "<keras.callbacks.callbacks.History at 0x7f3b0dc58f28>"
      ]
     },
     "execution_count": 9,
     "metadata": {},
     "output_type": "execute_result"
    }
   ],
   "source": [
    "config = Config(mode='conv')\n",
    "if config.mode == 'conv':\n",
    "    X,y = build_rand_feat()\n",
    "    y_flat = np.argmax(y, axis =1)\n",
    "    input_shape = (X.shape[1], X.shape[2], 1)\n",
    "    model = get_conv_model()\n",
    "    \n",
    "elif config.mode == 'time':\n",
    "    X,y = build_rand_feat()\n",
    "    y_flat = np.argmax(y, axis =1)\n",
    "    input_shape = (X.shape[1], X.shape[2])\n",
    "    model = get_recurrent_model()\n",
    "    \n",
    "class_weight = compute_class_weight('balanced', \n",
    "                                   np.unique(y_flat),\n",
    "                                   y_flat)\n",
    "model.fit(X, y, epochs= 10, batch_size = 32,\n",
    "         shuffle=True, class_weight = class_weight ) "
   ]
  },
  {
   "cell_type": "code",
   "execution_count": 16,
   "metadata": {},
   "outputs": [
    {
     "name": "stdout",
     "output_type": "stream",
     "text": [
      "(26410, 13, 9, 1)\n"
     ]
    }
   ],
   "source": []
  },
  {
   "cell_type": "code",
   "execution_count": null,
   "metadata": {},
   "outputs": [],
   "source": []
  }
 ],
 "metadata": {
  "kernelspec": {
   "display_name": "Python 3",
   "language": "python",
   "name": "python3"
  },
  "language_info": {
   "codemirror_mode": {
    "name": "ipython",
    "version": 3
   },
   "file_extension": ".py",
   "mimetype": "text/x-python",
   "name": "python",
   "nbconvert_exporter": "python",
   "pygments_lexer": "ipython3",
   "version": "3.5.6"
  }
 },
 "nbformat": 4,
 "nbformat_minor": 4
}
